{
 "cells": [
  {
   "cell_type": "markdown",
   "metadata": {
    "id": "0HO146OTzjKE"
   },
   "source": [
    "# Word2Vec Implementation and Experiments "
   ]
  },
  {
   "cell_type": "markdown",
   "metadata": {
    "id": "VGhklD5PkeOX"
   },
   "source": [
    "Overview:\n",
    "  - generate batch for skip-gram model\n",
    "  - implement two loss functions to train word embeddings\n",
    "  - tune the parameters for word embeddings\n",
    "  - apply best learned word embeddings to word analogy task\n",
    "  - calculate bias score on your best models\n",
    "  - create a new task on which you would run WEAT test\n"
   ]
  },
  {
   "cell_type": "markdown",
   "metadata": {
    "id": "GZOrRLfndVpL"
   },
   "source": [
    "How to use this notebook:\n",
    "  - This notebook is best viewed and executed in Google Colab.\n",
    "  - Please upload the .ipynb version of this notebook into Google Drive.\n",
    "  - Double click and select Open with Colab\n",
    "  - Upload the files provided in the current working directory of the Colab notebook"
   ]
  },
  {
   "cell_type": "markdown",
   "metadata": {
    "id": "nqOwCznvRnOu"
   },
   "source": [
    "## Setting up the data and needed libraries"
   ]
  },
  {
   "cell_type": "code",
   "execution_count": null,
   "metadata": {
    "colab": {
     "base_uri": "https://localhost:8080/"
    },
    "id": "pAsXQn_7Rl8Q",
    "outputId": "41d312b9-b1cc-4298-ea00-5a39b89979e9"
   },
   "outputs": [],
   "source": [
    "# Download datafile for Linux\n",
    "# !wget http://mattmahoney.net/dc/text8.zip\n",
    "# !unzip text8.zip\n",
    "# !rm text8.zip"
   ]
  },
  {
   "cell_type": "code",
   "execution_count": null,
   "metadata": {},
   "outputs": [],
   "source": [
    "# Download datafile for Windows\n",
    "import requests\n",
    "import zipfile\n",
    "import os\n",
    "\n",
    "# Define the URL of the file\n",
    "url = \"http://mattmahoney.net/dc/text8.zip\"\n",
    "# Define the file name to save\n",
    "filename = \"text8.zip\"\n",
    "\n",
    "# Download the file\n",
    "response = requests.get(url)\n",
    "with open(filename, 'wb') as f:\n",
    "    f.write(response.content)\n",
    "\n",
    "# Extract the contents of the zip file\n",
    "with zipfile.ZipFile(filename, 'r') as zip_ref:\n",
    "    zip_ref.extractall()\n",
    "\n",
    "# Remove the zip file\n",
    "os.remove(filename)"
   ]
  },
  {
   "cell_type": "markdown",
   "metadata": {
    "id": "6aMOLGZu565p"
   },
   "source": [
    "<b>Importing needed libraries and setting up random seeds"
   ]
  },
  {
   "cell_type": "code",
   "execution_count": null,
   "metadata": {
    "colab": {
     "base_uri": "https://localhost:8080/"
    },
    "id": "rpjuG6Tc56H7",
    "outputId": "8c597b63-820d-47c6-c9a4-dfb4b6215f9b"
   },
   "outputs": [],
   "source": [
    "# All import statements\n",
    "\n",
    "import collections\n",
    "import json\n",
    "\n",
    "import numpy as np\n",
    "from scipy.spatial import distance\n",
    "\n",
    "import torch\n",
    "import torch.nn as nn\n",
    "\n",
    "import math\n",
    "\n",
    "from tqdm import tqdm\n",
    "\n",
    "import os\n",
    "import pickle\n",
    "\n",
    "# Setting up all the seeds for repeatable experiements\n",
    "np.random.seed(1234)\n",
    "torch.manual_seed(1234)"
   ]
  },
  {
   "cell_type": "markdown",
   "metadata": {
    "id": "h3EdwlSd1d79"
   },
   "source": [
    "## Generating the Data\n"
   ]
  },
  {
   "cell_type": "markdown",
   "metadata": {
    "id": "GeRFlgId64Xw"
   },
   "source": [
    "To train word vectors, generating training instances from the given data is necessary. The generation method will create training instances in batches. For the skip-gram model, it will slide a window and sample training instances from the data inside the window.\n",
    "\n",
    "<b>For example:</b>\n",
    "\n",
    "Suppose that we have a text: \"The quick brown fox jumps over the lazy dog.\"\n",
    "and batch_size = 8, window_size = 3\n",
    "\n",
    "\"<font color = red>[The quick brown]</font> fox jumps over the lazy dog\"\n",
    "\n",
    "Context word would be 'quick' and predicting words are 'The' and 'brown'.\n",
    "\n",
    "This will generate training examples of the form context(x), predicted_word(y) like:\n",
    "<ul>\n",
    "      <li>(quick    ,       The)\n",
    "      <li>(quick    ,     brown)\n",
    "</ul>\n",
    "And then move the sliding window.\n",
    "\n",
    "\"The <font color = red>[quick brown fox]</font> jumps over the lazy dog\"\n",
    "\n",
    "In the same way, we have two more examples:\n",
    "<ul>\n",
    "    <li>(brown, quick)\n",
    "    <li>(brown, fox)\n",
    "</ul>\n",
    "\n",
    "Moving the window again:\n",
    "\n",
    "\"The quick <font color = red>[brown fox jumps]</font> over the lazy dog\"\n",
    "\n",
    "We get,\n",
    "\n",
    "<ul>\n",
    "    <li>(fox, brown)\n",
    "    <li>(fox, jumps)\n",
    "</ul>\n",
    "\n",
    "Finally we get two more instances from the moved window,\n",
    "\n",
    "\"The quick brown <font color = red>[fox jumps over]</font> the lazy dog\"\n",
    "\n",
    "<ul>\n",
    "    <li>(jumps, fox)\n",
    "    <li>(jumps, over)\n",
    "</ul>\n",
    "\n",
    "Since now we have 8 training instances, which is the batch size,\n",
    "stop generating this batch and return batch data."
   ]
  },
  {
   "cell_type": "markdown",
   "metadata": {
    "id": "0_HuugPXXuev"
   },
   "source": [
    "\n",
    "The two functions given below can fetch the data from the file streams."
   ]
  },
  {
   "cell_type": "code",
   "execution_count": null,
   "metadata": {
    "id": "5NM90locyL99"
   },
   "outputs": [],
   "source": [
    "# Read the data into a list of strings.\n",
    "def read_data(filename):\n",
    "    with open(filename) as file:\n",
    "        text = file.read()\n",
    "        data = [token.lower() for token in text.strip().split(\" \")]\n",
    "    return data\n",
    "\n",
    "def build_dataset(words, vocab_size):\n",
    "    count = [['UNK', -1]]\n",
    "    count.extend(collections.Counter(words).most_common(vocab_size - 1))\n",
    "    # token_to_id dictionary, id_to_taken reverse_dictionary\n",
    "    vocab_token_to_id = dict()\n",
    "    for word, _ in count:\n",
    "        vocab_token_to_id[word] = len(vocab_token_to_id)\n",
    "    data = list()\n",
    "    unk_count = 0\n",
    "    for word in words:\n",
    "        if word in vocab_token_to_id:\n",
    "            index = vocab_token_to_id[word]\n",
    "        else:\n",
    "            index = 0  # dictionary['UNK']\n",
    "            unk_count += 1\n",
    "        data.append(index)\n",
    "    count[0][1] = unk_count\n",
    "    vocab_id_to_token = dict(zip(vocab_token_to_id.values(), vocab_token_to_id.keys()))\n",
    "    return data, count, vocab_token_to_id, vocab_id_to_token"
   ]
  },
  {
   "cell_type": "markdown",
   "metadata": {
    "id": "Rn-6QljIlSII"
   },
   "source": [
    "<b>Variable Description</b>\n",
    "\n",
    "data_index is the index of a word. Access a word using data[data_index].\n",
    "\n",
    "batch_size is the number of instances in one batch.\n",
    "\n",
    "num_skips is the number of samples draw in a window (in example, it was 2).\n",
    "\n",
    "skip_windows decides how many words to consider left and right from a context word(so, skip_windows*2+1 = window_size).\n",
    "\n",
    "batch will contains word ids for context words. Dimension is [batch_size].\n",
    "\n",
    "labels will contains word ids for predicting words. Dimension is [batch_size, 1].\n"
   ]
  },
  {
   "cell_type": "code",
   "execution_count": null,
   "metadata": {
    "id": "6AVfTjwS9Q_L"
   },
   "outputs": [],
   "source": [
    "class Dataset:\n",
    "    def __init__(self, data, batch_size=128, num_skips=8, skip_window=4):\n",
    "        \"\"\"\n",
    "        @data_index: the index of a word. You can access a word using data[data_index]\n",
    "        @batch_size: the number of instances in one batch\n",
    "        @num_skips: the number of samples you want to draw in a window\n",
    "                (In the below example, it was 2)\n",
    "        @skip_window: decides how many words to consider left and right from a context word.\n",
    "                    (So, skip_windows*2+1 = window_size)\n",
    "        \"\"\"\n",
    "\n",
    "        self.data_index=0\n",
    "        self.data = data\n",
    "        assert batch_size % num_skips == 0\n",
    "        assert num_skips <= 2 * skip_window\n",
    "\n",
    "        self.batch_size = batch_size\n",
    "        self.num_skips = num_skips\n",
    "        self.skip_window = skip_window\n",
    "\n",
    "    def reset_index(self, idx=0):\n",
    "        self.data_index=idx\n",
    "\n",
    "    def generate_batch(self):\n",
    "        \"\"\"\n",
    "        Write the code generate a training batch\n",
    "\n",
    "        batch will contain word ids for context words. Dimension is [batch_size].\n",
    "        labels will contain word ids for predicting(target) words. Dimension is [batch_size, 1].\n",
    "        \"\"\"\n",
    "        # print(\"Generating batchs...\")\n",
    "        center_word = np.ndarray(shape=(self.batch_size), dtype=np.int32)\n",
    "        context_word = np.ndarray(shape=(self.batch_size), dtype=np.int32)\n",
    "\n",
    "        # stride: for the rolling window\n",
    "        stride = 1\n",
    "\n",
    "        # print(\"DATA: \")\n",
    "        # print(\"Shape: \", np_data.shape)\n",
    "        if (self.data_index == 0):\n",
    "            self.data_index = self.skip_window\n",
    "        else:\n",
    "            self.data_index+= self.skip_window+1\n",
    "        # print(\"data_index\")\n",
    "        # print(self.data_index)\n",
    "        # print(self.data[self.data_index])\n",
    "        device = torch.device(\"cuda:0\" if torch.cuda.is_available() else \"cpu\")\n",
    "        for i in range(self.batch_size // self.num_skips):\n",
    "          center_word_index = self.data_index\n",
    "          selected_context_words = set()\n",
    "          for j in range(self.num_skips):\n",
    "            while True:\n",
    "              context_word_index = np.random.randint(\n",
    "                  max(0, self.data_index - self.skip_window),\n",
    "                  min(len(self.data)-1, self.data_index + self.skip_window)+1\n",
    "              )\n",
    "              if context_word_index != self.data_index and context_word_index not in selected_context_words:\n",
    "                    break\n",
    "            center_word[i * self.num_skips + j] = self.data[center_word_index]\n",
    "            context_word[i * self.num_skips + j] = self.data[context_word_index]\n",
    "            selected_context_words.add(context_word_index)\n",
    "\n",
    "          self.data_index = (self.data_index + stride) % len(self.data)\n",
    "        # print(\"CONTEXT: \")\n",
    "        # print(context_word.shape)\n",
    "        # print(\"CENTER: \")\n",
    "        # print(center_word.shape)\n",
    "\n",
    "\n",
    "        return torch.LongTensor(center_word), torch.LongTensor(context_word)"
   ]
  },
  {
   "cell_type": "markdown",
   "metadata": {
    "id": "s_Rl4BwSNibp"
   },
   "source": [
    "## Building the Model\n"
   ]
  },
  {
   "cell_type": "markdown",
   "metadata": {
    "id": "neDNj2jlmTG0"
   },
   "source": [
    "\n",
    "<b>Negative Log Likelihood (NLL): </b>\n",
    "A metric used in statistics and machine learning to evaluate how well a model fits the observed data. It measures the dissimilarity between the predicted probability distribution and the actual distribution of the data. By taking the negative logarithm of the likelihood function, NLL converts the task of maximizing likelihood into minimizing a loss, making it suitable for optimization algorithms. Lower values of NLL indicate better agreement between the model's predictions and the actual data, making it a commonly used measure in tasks like classification and regression.\n",
    "\n",
    "Refer to [here](http://web.stanford.edu/class/cs224n/readings/cs224n-2019-notes01-wordvecs1.pdf).\n",
    "\n",
    "Training a word2vec model with this loss and the default settings took ~50 mins on Google Colab with GPU accelarator. It will take ~10 hrs on a Macbook Pro 2018 CPU.\n",
    "\n",
    "<br>\n",
    "\n",
    "<b>Negative Sampling (NEG): </b>\n",
    "The negative sampling formulates a slightly different classification task and a corresponding loss.\n",
    "[This paper](https://papers.nips.cc/paper/2013/file/9aa42b31882ec039965f3c4923ce901b-Paper.pdf) describes the method in detail.\n",
    "\n",
    "The idea here is to build a classifier that can give high probabilities to words that are the correct target words and low probabilities to words that are incorrect target words.\n",
    "As with negative log likelihood loss, here we define the classifier using a function that uses the word vectors of the context and target as free parameters.\n",
    "The key difference however is that instead of using the entire vocabulary, here we sample a set of k negative words for each instance, and create an augmented instance which is a collection of the true target word and k negative words.\n",
    "Now the vectors are trained to maximize the probability of this augmented instance.\n",
    "To understand it better, you may also refer to [here](http://web.stanford.edu/class/cs224n/readings/cs224n-2019-notes01-wordvecs1.pdf).\n",
    "\n",
    "Training a word2vec model with this loss and the default settings took ~2h30 mins on Google Colab with GPU accelarator.\n",
    "\n",
    "\n"
   ]
  },
  {
   "cell_type": "code",
   "execution_count": null,
   "metadata": {
    "id": "FFsQcYx2MJfj"
   },
   "outputs": [],
   "source": [
    "# Defining the sigmoid function\n",
    "sigmoid = lambda x: 1/(1 + torch.exp(-x))\n",
    "\n",
    "class WordVec(nn.Module):\n",
    "    def __init__(self, V, embedding_dim, loss_func, counts, num_neg_samples_per_center = 1):\n",
    "        super(WordVec, self).__init__()\n",
    "        self.center_embeddings = nn.Embedding(num_embeddings=V, embedding_dim=embedding_dim)\n",
    "        self.center_embeddings.weight.data.normal_(mean=0, std=1/math.sqrt(embedding_dim))\n",
    "        self.center_embeddings.weight.data[self.center_embeddings.weight.data<-1] = -1\n",
    "        self.center_embeddings.weight.data[self.center_embeddings.weight.data>1] = 1\n",
    "\n",
    "        self.context_embeddings = nn.Embedding(num_embeddings=V, embedding_dim=embedding_dim)\n",
    "        self.context_embeddings.weight.data.normal_(mean=0, std=1/math.sqrt(embedding_dim))\n",
    "        self.context_embeddings.weight.data[self.context_embeddings.weight.data<-1] = -1 + 1e-10\n",
    "        self.context_embeddings.weight.data[self.context_embeddings.weight.data>1] = 1 - 1e-10\n",
    "\n",
    "        self.loss_func = loss_func\n",
    "        self.counts = counts\n",
    "\n",
    "        self.num_neg_samples_per_center = num_neg_samples_per_center\n",
    "\n",
    "    def forward(self, center_word, context_word):\n",
    "\n",
    "        if self.loss_func == \"nll\":\n",
    "            return self.negative_log_likelihood_loss(center_word, context_word)\n",
    "        elif self.loss_func == \"neg\":\n",
    "            return self.negative_sampling(center_word, context_word)\n",
    "        else:\n",
    "            raise Exception(\"No implementation found for %s\"%(self.loss_func))\n",
    "\n",
    "    def negative_log_likelihood_loss(self, center_word, context_word):\n",
    "\n",
    "        # Notes (page 9): http://web.stanford.edu/class/cs224n/readings/cs224n-2019-notes01-wordvecs1.pdf\n",
    "        center_word_embeddings = self.center_embeddings(center_word) # batches, dims\n",
    "        context_word_embeddings = self.context_embeddings(context_word) # batches, dims\n",
    "\n",
    "        a = torch.sum(torch.mul(center_word_embeddings, context_word_embeddings), axis=1) # batches\n",
    "        # (batches, dims) @ (dims, V) = (batches, V);\n",
    "        b = torch.logsumexp(center_word_embeddings @ self.context_embeddings.weight.T, dim=1) # batches\n",
    "        loss = torch.mean(b - a)\n",
    "\n",
    "        return loss\n",
    "\n",
    "    def negative_sampling(self, center_word, context_word):\n",
    "\n",
    "        # use this variable to control the number of negative samples for every positive sample\n",
    "        # print(center_word[:20])\n",
    "        # print(context_word[:20])\n",
    "        num_neg_samples_per_center = self.num_neg_samples_per_center\n",
    "\n",
    "\n",
    "        batch_size = center_word.shape[0]\n",
    "        device = torch.device(\"cuda:0\" if torch.cuda.is_available() else \"cpu\")\n",
    "\n",
    "        # create a tensor with the negative samples\n",
    "        neg_samples = []\n",
    "        for i in range(batch_size):\n",
    "            neg_samples.append(torch.multinomial(torch.tensor(self.counts).float().pow(0.75), self.num_neg_samples_per_center, replacement=True))\n",
    "        neg_samples = torch.stack(neg_samples).to(device)  # (batch_size, num_neg_samples_per_center)\n",
    "\n",
    "        center_word_embeddings = self.center_embeddings(center_word).to(device)  # (batch_size, embedding_dim)\n",
    "        context_word_embeddings = self.context_embeddings(context_word).to(device)  # (batch_size, embedding_dim)\n",
    "\n",
    "        neg_word_embeddings = self.context_embeddings(neg_samples).to(device)  # (batch_size, num_neg_samples_per_center, embedding_dim)\n",
    "\n",
    "        # compute the dot product of the center and context word embeddings\n",
    "        pos_scores = torch.sum(torch.mul(center_word_embeddings, context_word_embeddings), dim=1)  # (batch_size,)\n",
    "\n",
    "        # compute the dot product of the center word embeddings and the negative samples embeddings\n",
    "        neg_scores = torch.bmm(neg_word_embeddings, center_word_embeddings.unsqueeze(2)).squeeze()  # (batch_size, num_neg_samples_per_center)\n",
    "\n",
    "        # compute the loss\n",
    "        pos_loss = torch.mean(-torch.log(sigmoid(pos_scores)))\n",
    "        neg_loss = torch.mean(-torch.log(sigmoid(-neg_scores)))\n",
    "        loss = pos_loss + neg_loss\n",
    "\n",
    "        return loss\n",
    "\n",
    "    def print_closest(self, validation_words, reverse_dictionary, top_k=8):\n",
    "        print('Printing closest words')\n",
    "        embeddings = torch.zeros(self.center_embeddings.weight.shape).copy_(self.center_embeddings.weight)\n",
    "        embeddings = embeddings.data.cpu().numpy()\n",
    "\n",
    "        validation_ids = validation_words\n",
    "        norm = np.sqrt(np.sum(np.square(embeddings),axis=1,keepdims=True))\n",
    "        normalized_embeddings = embeddings/norm\n",
    "        validation_embeddings = normalized_embeddings[validation_ids]\n",
    "        similarity = np.matmul(validation_embeddings, normalized_embeddings.T)\n",
    "        for i in range(len(validation_ids)):\n",
    "            word = reverse_dictionary[validation_words[i]]\n",
    "            nearest = (-similarity[i, :]).argsort()[1:top_k+1]\n",
    "            print(word, [reverse_dictionary[nearest[k]] for k in range(top_k)])"
   ]
  },
  {
   "cell_type": "markdown",
   "metadata": {
    "id": "pJ6wwwGdPk90"
   },
   "source": [
    "## Training and Data Loading Loops"
   ]
  },
  {
   "cell_type": "markdown",
   "metadata": {
    "id": "xw3TQl17Zrzr"
   },
   "source": [
    "The code below uses the models and losses built above and runs the actual training process."
   ]
  },
  {
   "cell_type": "code",
   "execution_count": null,
   "metadata": {
    "id": "6_qwLRzKPdiw"
   },
   "outputs": [],
   "source": [
    "class Trainer:\n",
    "    def __init__(self, model, ckpt_save_path, reverse_dictionary):\n",
    "        self.model = model\n",
    "        self.ckpt_save_path = ckpt_save_path\n",
    "        self.reverse_dictionary = reverse_dictionary\n",
    "\n",
    "    def training_step(self, center_word, context_word):\n",
    "        loss =  self.model(center_word, context_word)\n",
    "        return loss\n",
    "\n",
    "    def train(self, dataset, max_training_steps, ckpt_steps, validation_words, device=\"cpu\", lr = 1):\n",
    "\n",
    "        optim = torch.optim.SGD(self.model.parameters(), lr = lr)\n",
    "        self.model.to(device)\n",
    "        self.model.train()\n",
    "        self.losses = []\n",
    "\n",
    "        t = tqdm(range(max_training_steps))\n",
    "        for curr_step in t:\n",
    "            optim.zero_grad()\n",
    "            center_word, context_word = dataset.generate_batch()\n",
    "            loss = self.training_step(center_word.to(device), context_word.to(device))\n",
    "            loss.backward()\n",
    "            optim.step()\n",
    "            self.losses.append(loss.item())\n",
    "            if curr_step:\n",
    "                t.set_description(\"Avg loss: %s\"%(round(sum(self.losses[-2000:])/len(self.losses[-2000:]), 3)))\n",
    "            # if curr_step % 10000 == 0:\n",
    "            #     self.model.print_closest(validation_words, self.reverse_dictionary)\n",
    "            if curr_step%ckpt_steps == 0 and curr_step > 0:\n",
    "                self.save_ckpt(curr_step)\n",
    "\n",
    "    def save_ckpt(self, curr_step):\n",
    "        torch.save(self.model, \"%s/%s.pt\"%(self.ckpt_save_path, str(curr_step)))"
   ]
  },
  {
   "cell_type": "markdown",
   "metadata": {
    "id": "Ys10LdRRQp1Z"
   },
   "source": [
    "## Training Framework"
   ]
  },
  {
   "cell_type": "markdown",
   "metadata": {
    "id": "WmU-8MSepfLf"
   },
   "source": [
    "The following run_training function will train a model as shown in the results below. The parameters of the run_training() function include many hyperparameters which can be experimented with. Some examples include vector size, batch size, vocabulary size, epochs etc."
   ]
  },
  {
   "cell_type": "code",
   "execution_count": null,
   "metadata": {
    "id": "_EeC-lidQspm"
   },
   "outputs": [],
   "source": [
    "def create_path(path):\n",
    "    if not os.path.exists(path):\n",
    "        os.mkdir(path)\n",
    "        print (\"Created a path: %s\"%(path))\n",
    "\n",
    "def run_training(\n",
    "    model_type = 'nll', # defines which loss function is being used to train the model\n",
    "                        # can take values 'nll' for negative log loss and 'neg' for negative sampling\n",
    "    lr = 1, # defines the learning rate used for training the model\n",
    "    num_neg_samples_per_center = 1, # controls the number of negative samples per center word\n",
    "    checkpoint_model_path = './checkpoints', # defines path to the checkpoint of the model\n",
    "    final_model_path = './final_model', # location to save the final model\n",
    "    skip_window = 1, # size of the skip window\n",
    "    vocab_size = int(1e5), # size of the vocabulary used in the experiments\n",
    "    num_skips = 2, # Number of samples to be drawn from a window\n",
    "    batch_size = 64, # Size of the batches in terms of number of x,y pairs used for training\n",
    "    embedding_size = 128, # size of the embedding vectores\n",
    "    checkpoint_step = 50000, # Number of steps after which checkpoint is saved\n",
    "    max_num_steps = 200001 # Maximum number of steps to train for\n",
    "):\n",
    "\n",
    "    checkpoint_model_path = f'{checkpoint_model_path}_{model_type}/'\n",
    "    create_path(checkpoint_model_path)\n",
    "\n",
    "    # Read data\n",
    "    words = read_data(\"./text8\")\n",
    "    print('Data size', len(words))\n",
    "\n",
    "    data, count, vocab_token_to_id, vocab_id_to_token = build_dataset(words, vocab_size)\n",
    "    # save dictionary as vocabulary\n",
    "    print('Most common words (+UNK)', count[:5])\n",
    "    print('Sample data', data[:10], [vocab_id_to_token[i] for i in data[:10]])\n",
    "    # Calculate the probability of unigrams\n",
    "    # unigram_cnt = [c for w, c in count]\n",
    "    count_dict = dict(count)\n",
    "    unigram_cnt = [count_dict[vocab_id_to_token[i]] for i in sorted(list(vocab_token_to_id.values()))]\n",
    "    data_index = 0\n",
    "\n",
    "    dataset = Dataset(data, batch_size=batch_size, num_skips=num_skips, skip_window=skip_window)\n",
    "    center, context = dataset.generate_batch()\n",
    "    for i in range(8):\n",
    "        print(center[i].item(), vocab_id_to_token[center[i].item()],'->', context[i].item(), vocab_id_to_token[context[i].item()])\n",
    "    dataset.reset_index()\n",
    "\n",
    "    valid_size = 16     # Random set of words to evaluate similarity on.\n",
    "    valid_window = 100  # Only pick dev samples in the head of the distribution.\n",
    "    valid_examples = np.random.choice(valid_window, valid_size, replace=False)\n",
    "\n",
    "    embedding_size = embedding_size\n",
    "    model = WordVec(V=vocab_size, embedding_dim=embedding_size, loss_func=model_type, counts=np.array(unigram_cnt), num_neg_samples_per_center = num_neg_samples_per_center)\n",
    "    trainer = Trainer(model, checkpoint_model_path, vocab_id_to_token)\n",
    "\n",
    "    device = torch.device(\"cuda:0\" if torch.cuda.is_available() else \"cpu\")\n",
    "    print(f'Device: {device}')\n",
    "    trainer.train(dataset, max_num_steps, checkpoint_step, valid_examples, device, lr = lr)\n",
    "    model_path = final_model_path\n",
    "    create_path(model_path)\n",
    "    model_filepath = os.path.join(model_path, 'word2vec_%s.model'%(model_type))\n",
    "    pickle.dump([vocab_token_to_id, model.center_embeddings.weight.detach().cpu().numpy()], open(model_filepath, 'wb'))"
   ]
  },
  {
   "cell_type": "markdown",
   "metadata": {
    "id": "Yg9Hobhyqja_"
   },
   "source": [
    "The following cell shows a demo with much lesser training epochs, embedding size and vocabulary size to test the code."
   ]
  },
  {
   "cell_type": "code",
   "execution_count": null,
   "metadata": {
    "colab": {
     "base_uri": "https://localhost:8080/"
    },
    "id": "aCOcE0Uqej4t",
    "outputId": "cb6528e6-3851-4af0-c461-586cc0f6a5c8"
   },
   "outputs": [],
   "source": [
    "run_training(\n",
    "    model_type = 'neg', # defines which loss function is being used to train the model\n",
    "                        # can take values 'nll' for negative log loss and 'neg' for negative sampling\n",
    "    lr = 10, # defines the learning rate used for training the model\n",
    "    num_neg_samples_per_center = 3, # controls the number of negative samples per center word\n",
    "    checkpoint_model_path = './demo_checkpoints', # defines path to the checkpoint of the model\n",
    "    final_model_path = './final_demo_model', # location to save the final model\n",
    "    skip_window = 1, # size of the skip window\n",
    "    vocab_size = int(1e5), # size of the vocabulary used in the experiments\n",
    "    num_skips = 2, # Number of samples to be drawn from a window\n",
    "    batch_size = 256, # Size of the batches in terms of number of x,y pairs used for training\n",
    "    embedding_size = 4, # size of the embedding vectores\n",
    "    checkpoint_step = 500, # Number of steps after which checkpoint is saved\n",
    "    max_num_steps = 2001 # Maximum number of steps to train for\n",
    ")"
   ]
  },
  {
   "cell_type": "markdown",
   "metadata": {
    "id": "mLY01IbAeww5"
   },
   "source": [
    "<b>Train models of NLL and NEG using the above function.</b>"
   ]
  },
  {
   "cell_type": "code",
   "execution_count": null,
   "metadata": {
    "colab": {
     "base_uri": "https://localhost:8080/"
    },
    "id": "BXSBmxqpEVcr",
    "outputId": "fde1b4c3-f8ac-4a67-843b-353c0ce8beda"
   },
   "outputs": [],
   "source": [
    "run_training(\n",
    "    model_type = 'neg', # defines which loss function is being used to train the model\n",
    "                        # can take values 'nll' for negative log loss and 'neg' for negative sampling\n",
    "    lr = 1, # defines the learning rate used for training the model\n",
    "    num_neg_samples_per_center = 1, # controls the number of negative samples per center word\n",
    "    checkpoint_model_path = './checkpoints', # defines path to the checkpoint of the model\n",
    "    final_model_path = './final_model', # location to save the final model\n",
    "    skip_window = 1, # size of the skip window\n",
    "    vocab_size = int(1e5), # size of the vocabulary used in the experiments\n",
    "    num_skips = 2, # Number of samples to be drawn from a window\n",
    "    batch_size = 64, # Size of the batches in terms of number of x,y pairs used for training\n",
    "    embedding_size = 128, # size of the embedding vectores\n",
    "    checkpoint_step = 50000, # Number of steps after which checkpoint is saved\n",
    "    max_num_steps = 200001 # Maximum number of steps to train for\n",
    ")\n",
    "run_training(\n",
    "    model_type = 'nll', # defines which loss function is being used to train the model\n",
    "                        # can take values 'nll' for negative log loss and 'neg' for negative sampling\n",
    "    lr = 1, # defines the learning rate used for training the model\n",
    "    num_neg_samples_per_center = 1, # controls the number of negative samples per center word\n",
    "    checkpoint_model_path = './checkpoints', # defines path to the checkpoint of the model\n",
    "    final_model_path = './final_model', # location to save the final model\n",
    "    skip_window = 1, # size of the skip window\n",
    "    vocab_size = int(1e5), # size of the vocabulary used in the experiments\n",
    "    num_skips = 2, # Number of samples to be drawn from a window\n",
    "    batch_size = 64, # Size of the batches in terms of number of x,y pairs used for training\n",
    "    embedding_size = 128, # size of the embedding vectores\n",
    "    checkpoint_step = 50000, # Number of steps after which checkpoint is saved\n",
    "    max_num_steps = 200001 # Maximum number of steps to train for\n",
    ")"
   ]
  },
  {
   "cell_type": "markdown",
   "metadata": {
    "id": "5KxsyQ8gsF-0"
   },
   "source": [
    "## Testing Framework"
   ]
  },
  {
   "cell_type": "markdown",
   "metadata": {
    "id": "zswvfdgesjeF"
   },
   "source": [
    "<b>Analogies using word vectors</b>\n",
    "\n",
    "Use the word vectors learned from both approaches in the following word analogy task.\n",
    "\n",
    "Each question/task is in the following form.\n",
    "```\n",
    "Consider the following word pairs that share the same relation, R:\n",
    "\n",
    "    pilgrim:shrine, hunter:quarry, assassin:victim, climber:peak\n",
    "\n",
    "Among these word pairs,\n",
    "\n",
    "(1) pig:mud\n",
    "(2) politician:votes\n",
    "(3) dog:bone\n",
    "(4) bird:worm\n",
    "\n",
    "Q1. Which word pairs has the MOST illustrative(similar) example of the relation R?\n",
    "Q2. Which word pairs has the LEAST illustrative(similar) example of the relation R?\n",
    "```\n",
    "\n",
    "For each question, there are examples pairs of a certain relation. The task is to find the most/least illustrative word pair of the relation. One simple method to answer those questions will be measuring the similarities of difference vectors.\n",
    "\n",
    "Vectors are representing some direction in space. If (a, b) and (c, d) pairs are analogous pairs then the transformation from a to b (i.e., some x vector when added to a gives b: a + x = b) should be highly similar to the transformation from c to d (i.e., some y vector when added to c gives d: c + y = d). In other words, the difference vector (b-a) should be similar to difference vector (d-c).\n",
    "\n",
    "This difference vector can be thought to represent the relation between the two words.\n",
    "\n",
    "Due to the noisy annotation data, the expected accuracy is not high. The NLL default overall accuracy is 33.5% and negative sampling default overall accuracy is 33.6%.\n"
   ]
  },
  {
   "cell_type": "markdown",
   "metadata": {
    "id": "iUD-elYkPi_y"
   },
   "source": [
    "<b>Further implementation explanation:</b>\n",
    "\n",
    "  - `In the next 2 cells`:\n",
    "    Evaluating relation between pairs of words -- called the [MaxDiff question](https://en.wikipedia.org/wiki/MaxDiff).\n",
    "    Generate a file with the predictions following the format of `word_analogy_sample_predictions.txt`.\n",
    "\n",
    "  - `evaluate_word_analogy.pl`:\n",
    "    This is a perl script to evaluate THE PREDICTIONS on development data. Use it as shown in the next cell. \n",
    "\n",
    "  - `word_analogy_dev.txt`:\n",
    "    This is some data for development.\n",
    "    Each line of this file is divided into \"examples\" and \"choices\" by \"||\".\n",
    "        [examples]||[choices]\n",
    "    \"Examples\" and \"choices\" are delimited by a comma.\n",
    "      For example:  \"tailor:suit\",\"oracle:prophesy\",\"baker:flour\"\n",
    "\n",
    "  - `word_analogy_dev_sample_predictions.txt`:\n",
    "    A sample prediction file. Pay attention to the format of this file.\n",
    "    The prediction file follows this to use \"score_maxdiff.pl\" script.\n",
    "    Each row is in this format:\n",
    "    \n",
    "      <pair1> <pair2> <pair3> <pair4> <least_illustrative_pair> <most_illustrative_pair>\n",
    "\n",
    "    The order of word pairs matchs their original order found in `word_analogy_dev.txt`.\n",
    "\n",
    "  - `word_analogy_dev_mturk_answers.txt`:\n",
    "    This is the answers collected using Amazon mechanical turk for `word_analogy_dev.txt`.\n",
    "    The answers in this file is used as the correct answer and used to evaluate the analogy predictions. (using \"evaluate_word_analogy.pl\")\n",
    "\n",
    "  - `word_analogy_test.txt`:\n",
    "    Test data file.\n"
   ]
  },
  {
   "cell_type": "code",
   "execution_count": null,
   "metadata": {
    "id": "Xg-sE4hfsJxz"
   },
   "outputs": [],
   "source": [
    "def read_data_analogy(file_path): # NAME MODIFIED FOR BETTER EXPERIMENT EXPERIENCE\n",
    "    with open(file_path,'r') as f:\n",
    "        data = f.readlines()\n",
    "\n",
    "    candidate, test = [], []\n",
    "    for line in data:\n",
    "        a, b = line.strip().split(\"||\")\n",
    "        a = [i[1:-1].split(\":\") for i in a.split(\",\")]\n",
    "        b = [i[1:-1].split(\":\") for i in b.split(\",\")]\n",
    "        candidate.append(a)\n",
    "        test.append(b)\n",
    "\n",
    "    return candidate, test\n",
    "\n",
    "def get_embeddings(examples, embeddings, dictionary):\n",
    "\n",
    "    \"\"\"\n",
    "    For the word pairs in the 'examples' array, fetch embeddings and return.\n",
    "    You can access your trained model via dictionary and embeddings.\n",
    "    dictionary[word] will give you word_id\n",
    "    and embeddings[word_id] will return the embedding for that word.\n",
    "\n",
    "    word_id = dictionary[word]\n",
    "    v1 = embeddings[word_id]\n",
    "\n",
    "    or simply\n",
    "\n",
    "    v1 = embeddings[dictionary[word_id]]\n",
    "    \"\"\"\n",
    "\n",
    "    norm = np.sqrt(np.sum(np.square(embeddings),axis=1,keepdims=True))\n",
    "    normalized_embeddings = embeddings/norm\n",
    "\n",
    "    embs = []\n",
    "    for line in examples:\n",
    "        temp = []\n",
    "        for pairs in line:\n",
    "            temp.append([ normalized_embeddings[dictionary[pairs[0]]], normalized_embeddings[dictionary[pairs[1]]] ])\n",
    "        embs.append(temp)\n",
    "\n",
    "    result = np.array(embs)\n",
    "\n",
    "    return result\n",
    "\n",
    "def evaluate_pairs(candidate_embs, test_embs):\n",
    "\n",
    "    \"\"\"\n",
    "    Write code to evaluate a relation between pairs of words.\n",
    "    Find the best and worst pairs and return that.\n",
    "    \"\"\"\n",
    "\n",
    "    best_pairs = []\n",
    "    worst_pairs = []\n",
    "\n",
    "    #print(\"candidate_embs\\n\")\n",
    "    #print(candidate_embs[:2])\n",
    "    #print(\"test_embs\\n\")\n",
    "    #print(test_embs[:3])\n",
    "    candidate_embs = np.array(candidate_embs)\n",
    "    test_embs = np.array(test_embs)\n",
    "    diff_of_candidate = np.zeros((len(candidate_embs),len(candidate_embs[0]),\n",
    "                                  len(candidate_embs[0][0][0])),\n",
    "                                 dtype = np.float32)\n",
    "    for i in range (len(candidate_embs)):\n",
    "      for j in range (len(candidate_embs[0])):\n",
    "        diff_of_candidate[i][j]=np.array(candidate_embs[i][j][0]-candidate_embs[i][j][1])\n",
    "    diff_of_test = test_embs [:,:,0,:] - test_embs [:,:,1,:]\n",
    "    #print(\"candidate_diff\\n\")\n",
    "    #print(diff_of_candidate[:3])\n",
    "    #print(\"test_diff\\n\")\n",
    "    #print(diff_of_test[:3])\n",
    "    for i, line in enumerate(diff_of_test):\n",
    "      #print()\n",
    "      #print(\"line\")\n",
    "      #print(line)\n",
    "      line_test_pairs_score = []\n",
    "      for j, pair in enumerate(diff_of_test[i]):\n",
    "        #print(\"pair\")\n",
    "        #print(pair)\n",
    "        pair_dot_sum = 0\n",
    "        for k, cadidate_pair in enumerate(diff_of_candidate[i]):\n",
    "          pair_dot_sum = pair_dot_sum + np.dot(pair,cadidate_pair)\n",
    "          #print (\"pair_dot_sum\")\n",
    "          #print (pair_dot_sum)\n",
    "        line_test_pairs_score.append(pair_dot_sum)\n",
    "      #print(line_test_pairs_score)\n",
    "      min = np.argmin(line_test_pairs_score)\n",
    "      max = np.argmax(line_test_pairs_score)\n",
    "      #print(min)\n",
    "      #print(max)\n",
    "      best_pairs.append(max)\n",
    "      worst_pairs.append(min)\n",
    "\n",
    "    return best_pairs, worst_pairs\n",
    "def write_solution(best_pairs, worst_pairs, test, path):\n",
    "\n",
    "    \"\"\"\n",
    "    Write best and worst pairs to a file, that can be evaluated by evaluate_word_analogy.pl\n",
    "    \"\"\"\n",
    "\n",
    "    ans = []\n",
    "    for i, line in enumerate(test):\n",
    "        temp = [f'\"{pairs[0]}:{pairs[1]}\"' for pairs in line]\n",
    "        temp.append(f'\"{line[worst_pairs[i]][0]}:{line[worst_pairs[i]][1]}\"')\n",
    "        temp.append(f'\"{line[best_pairs[i]][0]}:{line[best_pairs[i]][1]}\"')\n",
    "        ans.append(\" \".join(temp))\n",
    "\n",
    "    with open(path, 'w') as f:\n",
    "        f.write(\"\\n\".join(ans))\n",
    "\n",
    "\n",
    "def run_word_analogy_eval(\n",
    "    model_path = './final_model', # path to the location where the model being evaluated is stored\n",
    "    input_filepath = 'word_analogy_dev.txt', # Word analogy file to evaluate on\n",
    "    output_filepath = 'word_analogy_demo_results.txt', # predicted results\n",
    "    model_type = 'nll' # type of model being used, NLL or NEG\n",
    "):\n",
    "\n",
    "    print(f'Model file: {model_path}/word2vec_{model_type}.model')\n",
    "    model_filepath = os.path.join(model_path, 'word2vec_%s.model'%(model_type))\n",
    "\n",
    "    dictionary, embeddings = pickle.load(open(model_filepath, 'rb'))\n",
    "\n",
    "    candidate, test = read_data_analogy(input_filepath) # READ DATA NAME MODIFIED\n",
    "\n",
    "    candidate_embs = get_embeddings(candidate, embeddings, dictionary)\n",
    "    test_embs = get_embeddings(test, embeddings, dictionary)\n",
    "\n",
    "    best_pairs, worst_pairs = evaluate_pairs(candidate_embs, test_embs)\n",
    "\n",
    "    out_filepath = output_filepath\n",
    "    print(f'Output file: {out_filepath}')\n",
    "    write_solution(best_pairs, worst_pairs, test, out_filepath)"
   ]
  },
  {
   "cell_type": "code",
   "execution_count": null,
   "metadata": {
    "id": "Ui1NrgB8Q1b8"
   },
   "outputs": [],
   "source": [
    "# from google.colab import drive\n",
    "# drive.mount('/content/drive')"
   ]
  },
  {
   "cell_type": "code",
   "execution_count": null,
   "metadata": {
    "id": "46Rzv8Q6wVS4"
   },
   "outputs": [],
   "source": [
    "run_word_analogy_eval(\n",
    "    model_path = './final_demo_model', # path to the location where the model being evaluated is stored\n",
    "    input_filepath = 'word_analogy_dev.txt', # Word analogy file to evaluate on\n",
    "    output_filepath = 'word_analogy_demo_dev_results.txt', # predicted results\n",
    "    model_type = 'neg' # type of model being used, NLL or NEG\n",
    "\n",
    ")"
   ]
  },
  {
   "cell_type": "markdown",
   "metadata": {
    "id": "oXBKXZvcMVN6"
   },
   "source": [
    "The results can finally be converted into numeric metrics using the Perl script below. A demo score result is also provided for refernce."
   ]
  },
  {
   "cell_type": "code",
   "execution_count": null,
   "metadata": {
    "id": "jLBe5k_DGs1_"
   },
   "outputs": [],
   "source": [
    "!chmod 777 evaluate_word_analogy.pl\n",
    "!./evaluate_word_analogy.pl word_analogy_dev_mturk_answers.txt word_analogy_demo_dev_results.txt demo_score_neg.txt"
   ]
  },
  {
   "cell_type": "code",
   "execution_count": null,
   "metadata": {},
   "outputs": [],
   "source": [
    "# !perl evaluate_word_analogy.pl word_analogy_dev_mturk_answers.txt word_analogy_demo_dev_results.txt > demo_score_neg.txt"
   ]
  },
  {
   "cell_type": "markdown",
   "metadata": {
    "id": "UqgKOnZ7Qg8x"
   },
   "source": [
    "## Running Experiments with various hyper-parameters for the Neg models"
   ]
  },
  {
   "cell_type": "markdown",
   "metadata": {
    "id": "3Kf1fWWnYH6H"
   },
   "source": [
    "There are five experiments, where each experiment involves learning word vectors using Negative Sampling model with a specific setting for the three hyper parameters listed below and evaluating the resulting word vectors on the test set of the word analogy task.\n",
    "\n",
    "Hyper parameters to try:\n",
    "  - Number of Neg samples (Can vary from 1 to 5)\n",
    "  - Learning Rate (Can vary from 0.1 to 10)\n",
    "  - Window size (Can vary from 1 to 10)"
   ]
  },
  {
   "cell_type": "markdown",
   "metadata": {
    "id": "7m0Q604fnADQ"
   },
   "source": [
    "### Experiment 1"
   ]
  },
  {
   "cell_type": "markdown",
   "metadata": {
    "id": "ACsHlAnDnj2W"
   },
   "source": [
    "* Number of Neg samples 1\n",
    "\n",
    "* Learning Rate 1\n",
    "\n",
    "* Window size 3\n",
    "\n"
   ]
  },
  {
   "cell_type": "markdown",
   "metadata": {
    "id": "6a0ui6zEneGV"
   },
   "source": [
    "Expectation: more accurate than demo, take longer time then demo, overal accuracy approach 33%"
   ]
  },
  {
   "cell_type": "code",
   "execution_count": null,
   "metadata": {
    "id": "6DIPVJYFQYMi"
   },
   "outputs": [],
   "source": [
    "run_training(\n",
    "    model_type = 'neg', # defines which loss function is being used to train the model\n",
    "                        # can take values 'nll' for negative log loss and 'neg' for negative sampling\n",
    "    lr = 1, # defines the learning rate used for training the model\n",
    "    num_neg_samples_per_center = 1, # controls the number of negative samples per center word\n",
    "    checkpoint_model_path = './checkpoints_1', # defines path to the checkpoint of the model\n",
    "    final_model_path = './final_model_1', # location to save the final model\n",
    "    skip_window = 1, # size of the skip window\n",
    "    vocab_size = int(1e5), # size of the vocabulary used in the experiments\n",
    "    num_skips = 2, # Number of samples to be drawn from a window\n",
    "    batch_size = 64, # Size of the batches in terms of number of x,y pairs used for training\n",
    "    embedding_size = 128, # size of the embedding vectores\n",
    "    checkpoint_step = 50000, # Number of steps after which checkpoint is saved\n",
    "    max_num_steps = 200001 # Maximum number of steps to train for\n",
    ")\n"
   ]
  },
  {
   "cell_type": "code",
   "execution_count": null,
   "metadata": {
    "id": "VEoba7w3_ps8"
   },
   "outputs": [],
   "source": [
    "run_word_analogy_eval(\n",
    "    model_path = './final_model_1', # path to the location where the model being evaluated is stored\n",
    "    input_filepath = 'word_analogy_dev.txt', # Word analogy file to evaluate on\n",
    "    output_filepath = 'word_analogy_dev_results_1.txt', # predicted results\n",
    "    model_type = 'neg' # type of model being used, NLL or NEG\n",
    "\n",
    ")"
   ]
  },
  {
   "cell_type": "code",
   "execution_count": null,
   "metadata": {
    "id": "Eyoua1-I_t4A"
   },
   "outputs": [],
   "source": [
    "!chmod 777 evaluate_word_analogy.pl\n",
    "!./evaluate_word_analogy.pl word_analogy_dev_mturk_answers.txt word_analogy_dev_results_1.txt score_neg_1.txt"
   ]
  },
  {
   "cell_type": "markdown",
   "metadata": {
    "id": "211TegT0ndEa"
   },
   "source": [
    "<b> Result </b>"
   ]
  },
  {
   "cell_type": "markdown",
   "metadata": {
    "id": "v1Os5TuVNdth"
   },
   "source": [
    "\n",
    "* Accuracy of Least Illustrative Guesses:            33.2%\n",
    "\n",
    "* Accuracy of Most Illustrative Guesses:             31.7%\n",
    "\n",
    "* Overall Accuracy:                                  32.4%\n",
    "\n",
    "* Takes: 2:23:20 h\n",
    "\n",
    "* Avg loss: 0.065: 100%|██████████| 200001/200001 [2:23:20<00:00, 23.25it/s]\n",
    "\n",
    "Accuracy is less than 33%, lower than expected. Possibly due to the small number of negative samples.\n"
   ]
  },
  {
   "cell_type": "markdown",
   "metadata": {
    "id": "qljvA7oeNjQJ"
   },
   "source": [
    "### Experiment 2"
   ]
  },
  {
   "cell_type": "markdown",
   "metadata": {
    "id": "Q84Jr57_NjQK"
   },
   "source": [
    "\n",
    "* Number of Neg samples 3\n",
    "\n",
    "* Learning Rate 1\n",
    "\n",
    "* Window size 3\n",
    "\n",
    "The accuracy of the previous experiment does not exceed 33%, try to increase the accuracy by adding negative samples\n"
   ]
  },
  {
   "cell_type": "markdown",
   "metadata": {
    "id": "KDlO6nCDNjQK"
   },
   "source": [
    "Expectation: slower than first experiment but more accurat"
   ]
  },
  {
   "cell_type": "code",
   "execution_count": null,
   "metadata": {
    "id": "BcO2smirNjQK"
   },
   "outputs": [],
   "source": [
    "run_training(\n",
    "    model_type = 'neg', # defines which loss function is being used to train the model\n",
    "                        # can take values 'nll' for negative log loss and 'neg' for negative sampling\n",
    "    lr = 1, # defines the learning rate used for training the model\n",
    "    num_neg_samples_per_center = 3, # controls the number of negative samples per center word\n",
    "    checkpoint_model_path = './checkpoints_2', # defines path to the checkpoint of the model\n",
    "    final_model_path = './final_model_2', # location to save the final model\n",
    "    skip_window = 1, # size of the skip window\n",
    "    vocab_size = int(1e5), # size of the vocabulary used in the experiments\n",
    "    num_skips = 2, # Number of samples to be drawn from a window\n",
    "    batch_size = 64, # Size of the batches in terms of number of x,y pairs used for training\n",
    "    embedding_size = 128, # size of the embedding vectores\n",
    "    checkpoint_step = 50000, # Number of steps after which checkpoint is saved\n",
    "    max_num_steps = 200001 # Maximum number of steps to train for\n",
    ")"
   ]
  },
  {
   "cell_type": "code",
   "execution_count": null,
   "metadata": {
    "id": "gGS1UJnY7S3y"
   },
   "outputs": [],
   "source": [
    "run_word_analogy_eval(\n",
    "    model_path = './final_model_2', # path to the location where the model being evaluated is stored\n",
    "    input_filepath = 'word_analogy_dev.txt', # Word analogy file to evaluate on\n",
    "    output_filepath = 'word_analogy_dev_results_2.txt', # predicted results\n",
    "    model_type = 'neg' # type of model being used, NLL or NEG\n",
    "\n",
    ")"
   ]
  },
  {
   "cell_type": "code",
   "execution_count": null,
   "metadata": {
    "id": "sV0TXbce7fhM"
   },
   "outputs": [],
   "source": [
    "!chmod 777 evaluate_word_analogy.pl\n",
    "!./evaluate_word_analogy.pl word_analogy_dev_mturk_answers.txt word_analogy_dev_results_2.txt score_neg_2.txt"
   ]
  },
  {
   "cell_type": "markdown",
   "metadata": {
    "id": "N7E9-wF5NjQK"
   },
   "source": [
    "<b> Result </b>"
   ]
  },
  {
   "cell_type": "markdown",
   "metadata": {
    "id": "DolvZGynNjQK"
   },
   "source": [
    "\n",
    "\n",
    "* Accuracy of Least Illustrative Guesses: 34.1%\n",
    "\n",
    "* Accuracy of Most Illustrative Guesses: 35.7%\n",
    "\n",
    "* Overall Accuracy: 34.9%\n",
    "\n",
    "* Takes: 2:21:55 h\n",
    "\n",
    "* Avg loss: 0.059: 100%|██████████| 200001/200001 [2:21:55<00:00, 23.49it/s]\n",
    "\n",
    "Accuracy does improve significantly, which is expected since more negative samples allow the model to better distinguish negatively correlated word pairs. But it didn't take longer, which is a bit abnormal, not sure if it is due to Colab's problem with GPU scheduling or other reasons"
   ]
  },
  {
   "cell_type": "markdown",
   "metadata": {
    "id": "iBVrNskUNnCl"
   },
   "source": [
    "### Experiment 3"
   ]
  },
  {
   "cell_type": "markdown",
   "metadata": {
    "id": "F1LDDxfPNnCl"
   },
   "source": [
    "* Number of Neg samples 3\n",
    "\n",
    "* Learning Rate 0.5\n",
    "\n",
    "* Window size 3\n",
    "\n",
    "After the first two experiments, I tried to use a smaller learning rate to explore the impact of the learning rate on the model, and control the negative sample size and window size unchanged\n",
    "\n"
   ]
  },
  {
   "cell_type": "markdown",
   "metadata": {
    "id": "kOkBZCeGNnCm"
   },
   "source": [
    "<b> Expectation </b>"
   ]
  },
  {
   "cell_type": "markdown",
   "metadata": {
    "id": "On5SBOizNnCm"
   },
   "source": [
    "Expecting this experiment to take longer and produce more accurate results than the last one"
   ]
  },
  {
   "cell_type": "code",
   "execution_count": null,
   "metadata": {
    "id": "JDIqINOlNnCm"
   },
   "outputs": [],
   "source": [
    "run_training(\n",
    "    model_type = 'neg', # defines which loss function is being used to train the model\n",
    "                        # can take values 'nll' for negative log loss and 'neg' for negative sampling\n",
    "    lr = 0.5, # defines the learning rate used for training the model\n",
    "    num_neg_samples_per_center = 3, # controls the number of negative samples per center word\n",
    "    checkpoint_model_path = './checkpoints_3', # defines path to the checkpoint of the model\n",
    "    final_model_path = './final_model_3', # location to save the final model\n",
    "    skip_window = 1, # size of the skip window\n",
    "    vocab_size = int(1e5), # size of the vocabulary used in the experiments\n",
    "    num_skips = 2, # Number of samples to be drawn from a window\n",
    "    batch_size = 64, # Size of the batches in terms of number of x,y pairs used for training\n",
    "    embedding_size = 128, # size of the embedding vectores\n",
    "    checkpoint_step = 50000, # Number of steps after which checkpoint is saved\n",
    "    max_num_steps = 200001 # Maximum number of steps to train for\n",
    ")"
   ]
  },
  {
   "cell_type": "code",
   "execution_count": null,
   "metadata": {
    "id": "aeparMLqA6xz"
   },
   "outputs": [],
   "source": [
    "run_word_analogy_eval(\n",
    "    model_path = './final_model_3', # path to the location where the model being evaluated is stored\n",
    "    input_filepath = 'word_analogy_dev.txt', # Word analogy file to evaluate on\n",
    "    output_filepath = 'word_analogy_dev_results_3.txt', # predicted results\n",
    "    model_type = 'neg' # type of model being used, NLL or NEG\n",
    "\n",
    ")"
   ]
  },
  {
   "cell_type": "code",
   "execution_count": null,
   "metadata": {
    "id": "xgyDSpShDBFa"
   },
   "outputs": [],
   "source": [
    "!chmod 777 evaluate_word_analogy.pl\n",
    "!./evaluate_word_analogy.pl word_analogy_dev_mturk_answers.txt word_analogy_dev_results_3.txt score_neg_3.txt"
   ]
  },
  {
   "cell_type": "markdown",
   "metadata": {
    "id": "OODYQp28NnCm"
   },
   "source": [
    "<b> Result </b>"
   ]
  },
  {
   "cell_type": "markdown",
   "metadata": {
    "id": "ef-4RoZ4NnCm"
   },
   "source": [
    "\n",
    "* Accuracy of Least Illustrative Guesses: 34.1%\n",
    "\n",
    "* Accuracy of Most Illustrative Guesses: 35.7%\n",
    "\n",
    "* Overall Accuracy: 34.9%\n",
    "\n",
    "* Takes: 5:10:09 h\n",
    "\n",
    "* Avg loss: 0.057: 100%|██████████| 200001/200001 [5:10:09<00:00, 10.75it/s]\n",
    "\n",
    "Surprisingly, the accuracy in all aspects is the same as the previous experiment, and the average loss of the two experiments is also very similar. But still due to Colab's opacity to GPU mobilization, I can't be sure whether the experiment takes longer time is caused by the reduction of learning rate. I infer that the reason why the accuracy has not improved may be that the loss function of the two experiments is also the same because the last experiment has the same variables as the experiment except the learning rate. After a long time of calculation, both experiments have found the lowest point of the function, so no matter how much calculation is done, the result will stay around a value. This makes the learning rate have little effect on it."
   ]
  },
  {
   "cell_type": "markdown",
   "metadata": {
    "id": "-F9QRU4sNvpk"
   },
   "source": [
    "### Experiment 4"
   ]
  },
  {
   "cell_type": "markdown",
   "metadata": {
    "id": "kPlyw0cgNvpk"
   },
   "source": [
    "* Number of Neg samples 3\n",
    "\n",
    "* Learning Rate 1\n",
    "\n",
    "* Window size 5\n",
    "\n",
    "After the above experiments, I tried to use a bigger window size to explore the impact of the learning rate on the model, and control the negative sample size and learning rate unchanged"
   ]
  },
  {
   "cell_type": "markdown",
   "metadata": {
    "id": "q4wAvUweNvpl"
   },
   "source": [
    "Expectation: As the window size becomes larger, the model should sample more related words of a single word, and should be able to more accurately understand the correlation between words and thus give each word a more accurate vector"
   ]
  },
  {
   "cell_type": "code",
   "execution_count": null,
   "metadata": {
    "id": "LSI_XMtFNvpl"
   },
   "outputs": [],
   "source": [
    "run_training(\n",
    "    model_type = 'neg', # defines which loss function is being used to train the model\n",
    "                        # can take values 'nll' for negative log loss and 'neg' for negative sampling\n",
    "    lr = 1, # defines the learning rate used for training the model\n",
    "    num_neg_samples_per_center = 3, # controls the number of negative samples per center word\n",
    "    checkpoint_model_path = './checkpoints_4', # defines path to the checkpoint of the model\n",
    "    final_model_path = './final_model_4', # location to save the final model\n",
    "    skip_window = 2, # size of the skip window\n",
    "    vocab_size = int(1e5), # size of the vocabulary used in the experiments\n",
    "    num_skips = 4, # Number of samples to be drawn from a window\n",
    "    batch_size = 64, # Size of the batches in terms of number of x,y pairs used for training\n",
    "    embedding_size = 128, # size of the embedding vectores\n",
    "    checkpoint_step = 50000, # Number of steps after which checkpoint is saved\n",
    "    max_num_steps = 200001 # Maximum number of steps to train for\n",
    ")"
   ]
  },
  {
   "cell_type": "code",
   "execution_count": null,
   "metadata": {
    "id": "dJHFmZfqczNz"
   },
   "outputs": [],
   "source": [
    "run_word_analogy_eval(\n",
    "    model_path = './final_model_4', # path to the location where the model being evaluated is stored\n",
    "    input_filepath = 'word_analogy_dev.txt', # Word analogy file to evaluate on\n",
    "    output_filepath = 'word_analogy_dev_results_4.txt', # predicted results\n",
    "    model_type = 'neg' # type of model being used, NLL or NEG\n",
    ")"
   ]
  },
  {
   "cell_type": "code",
   "execution_count": null,
   "metadata": {
    "id": "v1lESGSnc1yA"
   },
   "outputs": [],
   "source": [
    "!chmod 777 evaluate_word_analogy.pl\n",
    "!./evaluate_word_analogy.pl word_analogy_dev_mturk_answers.txt word_analogy_dev_results_4.txt score_neg_4.txt"
   ]
  },
  {
   "cell_type": "markdown",
   "metadata": {
    "id": "faG0h-dpNvpl"
   },
   "source": [
    "<b> Result </b>"
   ]
  },
  {
   "cell_type": "markdown",
   "metadata": {
    "id": "18UrXMUyNvpl"
   },
   "source": [
    "\n",
    "* Accuracy of Least Illustrative Guesses: 34.1%\n",
    "\n",
    "* Accuracy of Most Illustrative Guesses: 35.7%\n",
    "\n",
    "* Overall Accuracy: 34.9%\n",
    "\n",
    "* Takes: 2:21:55 h\n",
    "\n",
    "* Avg loss: 0.058: 100%|██████████| 200001/200001 [2:21:55<00:00, 23.49it/s]\n",
    "\n",
    "The accuracy results are again exactly the same as before. This shocked me. Through repeated confirmation and comparison of avg loss, I made sure that I did not use the same model repeatedly, which made me wonder if there was an error in the implementation. If the implementation is correct, the reason for this result is likely to be the same as the previous experiment - After a long time of calculation, these experiments have found the lowest point of the function, so no matter how much calculation is done, the result will stay near a value. When this value is reached, the literal vector changes very little"
   ]
  },
  {
   "cell_type": "markdown",
   "metadata": {
    "id": "0FhkA0iNN0Zx"
   },
   "source": [
    "### Experiment 5"
   ]
  },
  {
   "cell_type": "markdown",
   "metadata": {
    "id": "EWNU2PYTN0Zx"
   },
   "source": [
    "* Number of Neg samples 4\n",
    "\n",
    "* Learning Rate 1\n",
    "\n",
    "* Window size 3\n",
    "\n",
    "Since in the second experiment, increasing the number of negative samples significantly improved the accuracy, I tried to further increase the number of negative samples to see if the accuracy would improve further"
   ]
  },
  {
   "cell_type": "markdown",
   "metadata": {
    "id": "OEOh1RfPN0Zy"
   },
   "source": [
    "Expectation: Looking forward to further improvements in accuracy"
   ]
  },
  {
   "cell_type": "code",
   "execution_count": null,
   "metadata": {
    "id": "6IJSUIn7N0Zy"
   },
   "outputs": [],
   "source": [
    "run_training(\n",
    "    model_type = 'neg', # defines which loss function is being used to train the model\n",
    "                        # can take values 'nll' for negative log loss and 'neg' for negative sampling\n",
    "    lr = 1, # defines the learning rate used for training the model\n",
    "    num_neg_samples_per_center = 4, # controls the number of negative samples per center word\n",
    "    checkpoint_model_path = './checkpoints_5', # defines path to the checkpoint of the model\n",
    "    final_model_path = './final_model_5', # location to save the final model\n",
    "    skip_window = 1, # size of the skip window\n",
    "    vocab_size = int(1e5), # size of the vocabulary used in the experiments\n",
    "    num_skips = 2, # Number of samples to be drawn from a window\n",
    "    batch_size = 64, # Size of the batches in terms of number of x,y pairs used for training\n",
    "    embedding_size = 128, # size of the embedding vectores\n",
    "    checkpoint_step = 50000, # Number of steps after which checkpoint is saved\n",
    "    max_num_steps = 200001 # Maximum number of steps to train for\n",
    ")"
   ]
  },
  {
   "cell_type": "code",
   "execution_count": null,
   "metadata": {
    "id": "Wp_wbS59oYgA"
   },
   "outputs": [],
   "source": [
    "run_word_analogy_eval(\n",
    "    model_path = './final_model_5', # path to the location where the model being evaluated is stored\n",
    "    input_filepath = 'word_analogy_dev.txt', # Word analogy file to evaluate on\n",
    "    output_filepath = 'word_analogy_dev_results_5.txt', # predicted results\n",
    "    model_type = 'neg' # type of model being used, NLL or NEG\n",
    ")"
   ]
  },
  {
   "cell_type": "code",
   "execution_count": null,
   "metadata": {
    "id": "A7aumNqWpRY5"
   },
   "outputs": [],
   "source": [
    "!chmod 777 evaluate_word_analogy.pl\n",
    "!./evaluate_word_analogy.pl word_analogy_dev_mturk_answers.txt word_analogy_dev_results_5.txt score_neg_5.txt"
   ]
  },
  {
   "cell_type": "markdown",
   "metadata": {
    "id": "mc7WuBtTN0Zy"
   },
   "source": [
    "<b> Result </b>"
   ]
  },
  {
   "cell_type": "markdown",
   "metadata": {
    "id": "zwISJiMiN0Zz"
   },
   "source": [
    "* Accuracy of Least Illustrative Guesses: 29.5%\n",
    "\n",
    "* Accuracy of Most Illustrative Guesses: 33.5%\n",
    "\n",
    "* Overall Accuracy: 31.5%\n",
    "\n",
    "* Takes: 2:22:35 h\n",
    "\n",
    "* Avg loss: 0.059: 100%|██████████| 200001/200001 [2:22:35<00:00, 23.38it/s]\n",
    "\n",
    "Accuracy did not improve, but decreased. Maybe too many negative samples interfere with the model's judgment on the relationship between words, making many related word pairs less relevant."
   ]
  },
  {
   "cell_type": "markdown",
   "metadata": {
    "id": "-y_UyAKpdY7C"
   },
   "source": [
    "# Running the Negative Log-likelihood (NLL) method.\n",
    "\n",
    "Learn word vectors using the negative log-likelihood method with the same settings of hyper parameters as in Experiment 1 above. (Note that number of negative samples does not apply in this case). Test the resulting vectors on the test set of the word analogy task.\n",
    "<br/>\n",
    "\n",
    "\n",
    "<b>Result</b>\n",
    "\n",
    "* Accuracy of Least Illustrative Guesses: 26.0%\n",
    "* Accuracy of Most Illustrative Guesses: 30.4%\n",
    "* Accuracy of Most Illustrative Guesses: 30.4%\n",
    "* Time: 0:30:56 h\n",
    "\n",
    "The nll model has lower accuracy with the same settings as the neg model, but it takes much less time than the neg model."
   ]
  },
  {
   "cell_type": "code",
   "execution_count": null,
   "metadata": {
    "id": "3PgFzXEfritZ"
   },
   "outputs": [],
   "source": [
    "run_word_analogy_eval(\n",
    "    model_path = './final_model', # path to the location where the model being evaluated is stored\n",
    "    input_filepath = 'word_analogy_dev.txt', # Word analogy file to evaluate on\n",
    "    output_filepath = 'word_analogy_dev_results_nll.txt', # predicted results\n",
    "    model_type = 'nll' # type of model being used, NLL or NEG\n",
    ")"
   ]
  },
  {
   "cell_type": "code",
   "execution_count": null,
   "metadata": {
    "id": "jalBbGeerqGm"
   },
   "outputs": [],
   "source": [
    "!chmod 777 evaluate_word_analogy.pl\n",
    "!./evaluate_word_analogy.pl word_analogy_dev_mturk_answers.txt word_analogy_dev_results_nll.txt score_nll.txt"
   ]
  },
  {
   "cell_type": "markdown",
   "metadata": {
    "id": "Q5McV-znN9K1"
   },
   "source": [
    "### Conclusion"
   ]
  },
  {
   "cell_type": "markdown",
   "metadata": {
    "id": "sWOjjGMsN746"
   },
   "source": [
    "|EXPERIMENT #| Accuracy | Time | Avg loss |\n",
    "| ----------- | ----------- |----------|------|\n",
    "| NEG 1      | 32.4%       | 2:23:20 | 0.065|\n",
    "| NEG 2   | 34.9%       |2:21:55|0.059|\n",
    "|NEG 3| 34.9%| 5:10:09| 0.057|\n",
    "|NEG 4| 34.9%| 2:21:55| 0.058|\n",
    "|NEG 5| 31.5%| 2:22:35|0.059|\n",
    "|NLL 1| 28.2%|0:30:56| 1.091|\n",
    "\n",
    "In general, through the above experiments, it can be found that a smaller learning rate can find the minimum value of the loss function more accurately, but it has no significant effect after being small to a certain extent. It is also found that more negative samples can improve the accuracy of learning, but once the number of negative samples is too large, it will also interfere with the model. The change of the window size should have a similar performance to the negative sample, but due to the small number of experiments on the window size, it is not obvious"
   ]
  },
  {
   "cell_type": "markdown",
   "metadata": {
    "id": "sxBHHqj_Oz_s"
   },
   "source": [
    "## WEAT Test"
   ]
  },
  {
   "cell_type": "markdown",
   "metadata": {
    "id": "tbPr6A28O2FO"
   },
   "source": [
    "Observe the unwanted learnings of the generated embeddings.\n",
    "In this task, we looked at how to evaluate whether the embeddings are biased or not.\n",
    "\n",
    "The WEAT test provides a way to measure quantifiably the bias in the word embeddings. [This paper](https://arxiv.org/pdf/1810.03611.pdf) describes the method in detail.\n",
    "\n",
    "The basic idea is to examine the associations in word embeddings between concepts.\n",
    "It measures the degree to which a model associates sets of target words (e.g., African American names, European American names, flowers, insects) with sets of attribute words (e.g., ”stable”, ”pleasant” or ”unpleasant”).\n",
    "The association between two given words is defined as the cosine similarity between the embedding vectors for the words.\n"
   ]
  },
  {
   "cell_type": "markdown",
   "metadata": {
    "id": "egvyoVBmUyeO"
   },
   "source": [
    "This will generate the bias scores as evaluated on 5 different tasks with different sets of attributes (A and B) and targets (X and Y) as defined in the file pointed to in the `weat_file_path` (`weat.json` for the given data). This will print and dump the output in the filepath.\n",
    "\n",
    "\n",
    "Add to the json file `custom_weat.json`, another task in the following format:\n",
    "```\n",
    "{\n",
    "  # initial tasks....\n",
    "  \"custom_task\": {\n",
    "    \"A_key\": \"A_val\",\n",
    "    \"B_key\": \"B_val\",\n",
    "    \"X_key\": \"X_val\",\n",
    "    \"Y_key\": \"Y_val\",\n",
    "    \"A_val\": [\n",
    "      # list of words for attribute A\n",
    "    ],\n",
    "    \"B_val\": [\n",
    "      # list of words for attribute B\n",
    "    ],\n",
    "    \"X_val\": [\n",
    "      # list of words for target X\n",
    "    ],\n",
    "    \"Y_val\": [\n",
    "      # list of words for target Y\n",
    "    ],\n",
    "  }\n",
    "}\n",
    "```\n",
    "\n",
    "The task name is `custom_task`, this will be automatically verified. Have a look at the other tasks for more clarity.\n"
   ]
  },
  {
   "cell_type": "code",
   "execution_count": null,
   "metadata": {
    "id": "AscW6lztS2Vn"
   },
   "outputs": [],
   "source": [
    "def str2bool(v):\n",
    "    if isinstance(v, bool):\n",
    "       return v\n",
    "    if v.lower() in ('yes', 'true', 't', 'y', '1'):\n",
    "        return True\n",
    "    elif v.lower() in ('no', 'false', 'f', 'n', '0'):\n",
    "        return False\n",
    "\n",
    "def unit_vector(vec):\n",
    "    return vec / np.linalg.norm(vec)\n",
    "\n",
    "def cos_sim(v1, v2):\n",
    "\n",
    "    \"\"\"\n",
    "    Cosine Similarity between the 2 vectors\n",
    "    \"\"\"\n",
    "\n",
    "    v1_u = unit_vector(v1)\n",
    "    v2_u = unit_vector(v2)\n",
    "    return np.clip(np.tensordot(v1_u, v2_u, axes=(-1, -1)), -1.0, 1.0)\n",
    "\n",
    "def weat_association(W, A, B):\n",
    "\n",
    "    \"\"\"\n",
    "    Compute Weat score for given target words W, along the attributes A & B.\n",
    "    \"\"\"\n",
    "\n",
    "    return np.mean(cos_sim(W, A), axis=-1) - np.mean(cos_sim(W, B), axis=-1)\n",
    "\n",
    "def weat_score(X, Y, A, B):\n",
    "\n",
    "    \"\"\"\n",
    "    Compute differential weat score across the given target words X & Y along the attributes A & B.\n",
    "    \"\"\"\n",
    "\n",
    "    x_association = weat_association(X, A, B)\n",
    "    y_association = weat_association(Y, A, B)\n",
    "\n",
    "    tmp1 = np.mean(x_association, axis=-1) - np.mean(y_association, axis=-1)\n",
    "    tmp2 = np.std(np.concatenate((x_association, y_association), axis=0))\n",
    "\n",
    "    return tmp1 / tmp2\n",
    "\n",
    "def balance_word_vectors(vec1, vec2):\n",
    "    diff = len(vec1) - len(vec2)\n",
    "\n",
    "    if diff > 0:\n",
    "        vec1 = np.delete(vec1, np.random.choice(len(vec1), diff, 0), axis=0)\n",
    "    else:\n",
    "        vec2 = np.delete(vec2, np.random.choice(len(vec2), -diff, 0), axis=0)\n",
    "\n",
    "    return (vec1, vec2)\n",
    "\n",
    "def get_word_vectors(words, model, vocab_token_to_id):\n",
    "\n",
    "    \"\"\"\n",
    "    Return list of word embeddings for the given words using the passed model and tokeniser\n",
    "    \"\"\"\n",
    "\n",
    "    output = []\n",
    "\n",
    "    emb_size = len(model[0])\n",
    "\n",
    "    for word in words:\n",
    "        try:\n",
    "            output.append(model[vocab_token_to_id[word]])\n",
    "        except:\n",
    "            pass\n",
    "\n",
    "    return np.array(output)\n",
    "\n",
    "def compute_weat(weat_path, model, vocab_token_to_id):\n",
    "\n",
    "    \"\"\"\n",
    "    Compute WEAT score for the task as defined in the file at `weat_path`, and generating word embeddings from the passed model and tokeniser.\n",
    "    \"\"\"\n",
    "\n",
    "    with open(weat_path) as f:\n",
    "        weat_dict = json.load(f)\n",
    "\n",
    "    all_scores = {}\n",
    "\n",
    "    for data_name, data_dict in weat_dict.items():\n",
    "        # Target\n",
    "        X_key = data_dict['X_key']\n",
    "        Y_key = data_dict['Y_key']\n",
    "\n",
    "        # Attributes\n",
    "        A_key = data_dict['A_key']\n",
    "        B_key = data_dict['B_key']\n",
    "\n",
    "        X = get_word_vectors(data_dict[X_key], model, vocab_token_to_id)\n",
    "        Y = get_word_vectors(data_dict[Y_key], model, vocab_token_to_id)\n",
    "        A = get_word_vectors(data_dict[A_key], model, vocab_token_to_id)\n",
    "        B = get_word_vectors(data_dict[B_key], model, vocab_token_to_id)\n",
    "\n",
    "        if len(X) == 0 or len(Y) == 0:\n",
    "            print('Not enough matching words in dictionary')\n",
    "            continue\n",
    "\n",
    "        X, Y = balance_word_vectors(X, Y)\n",
    "        A, B = balance_word_vectors(A, B)\n",
    "\n",
    "        score = weat_score(X, Y, A, B)\n",
    "        all_scores[data_name] = str(score)\n",
    "\n",
    "    return all_scores\n",
    "\n",
    "def dump_dict(obj, output_path):\n",
    "    with open(output_path, \"w\") as file:\n",
    "        json.dump(obj, file)\n",
    "\n",
    "def run_bias_eval(\n",
    "    weat_file_path = 'weat.json', # weat file where the tasks are defined\n",
    "    out_file = 'weat_demo_results.json', # output JSON file where the output is stored\n",
    "    model_path = '/content/final_demo_model/word2vec_nll.model' # Full model path (including filename) to load from\n",
    "):\n",
    "\n",
    "    vocab_token_to_id, model = pickle.load(open(model_path, 'rb'))\n",
    "\n",
    "    bias_score = compute_weat(weat_file_path, model, vocab_token_to_id)\n",
    "\n",
    "    print(\"Final Bias Scores\")\n",
    "    print(json.dumps(bias_score, indent=4))\n",
    "\n",
    "    dump_dict(bias_score, out_file)"
   ]
  },
  {
   "cell_type": "code",
   "execution_count": null,
   "metadata": {
    "id": "DNDgCfEoV7Bz"
   },
   "outputs": [],
   "source": [
    "run_bias_eval(\n",
    "    weat_file_path = 'weat.json', # weat file where the tasks are defined\n",
    "    out_file = 'nll_bias_output.json', # output JSON file where the output is stored\n",
    "    model_path = '/content/final_model/word2vec_nll.model' # Full model path (including filename) to load from\n",
    ")"
   ]
  },
  {
   "cell_type": "markdown",
   "metadata": {
    "id": "sPudRwGkFW_D"
   },
   "source": [
    "### WEAT Experiment 1 (NLL Model)"
   ]
  },
  {
   "cell_type": "markdown",
   "metadata": {
    "id": "7Ta_TKYoFW_F"
   },
   "source": [
    "Tests Created:\n",
    "* AmusementPark_Hospital_Pleasant_Unpleasant\n",
    "\n",
    "* ItalianCuisines_MexicanCuisines_Healthy_Unhealthy\n",
    "\n",
    "* JapeneseCar_AmericanCar_Good_Bad\n",
    "\n",
    "* EuropeanCountries_AfricanCountries_Developed_FallBehind\n",
    "\n",
    "* Male_Female_Careless_Careful\n",
    "\n",
    "I created these tests because these biases in testing are very common in many people's minds, so there is a good chance that this bias will be reflected in the sample"
   ]
  },
  {
   "cell_type": "markdown",
   "metadata": {
    "id": "LSjFSkewFW_F"
   },
   "source": [
    "I expect that for AmusementPark_Hospital_Pleasant_Unpleasant test and EuropeanCountries_AfricanCountries_Developed_FallBehind test, the model can give a higher correlation, because these prejudices are more common and deep-rooted in daily life, I expect their results to be greater than other tests, and other results I generally Expect to be higher than 0, but shouldn't be much higher."
   ]
  },
  {
   "cell_type": "code",
   "execution_count": null,
   "metadata": {
    "id": "e1Aim3mtFW_F"
   },
   "outputs": [],
   "source": [
    "run_bias_eval(\n",
    "    weat_file_path = 'custom_weat.json', # weat file where the tasks are defined\n",
    "    out_file = 'weat_results_nll.json', # output JSON file where the output is stored\n",
    "    model_path = '/content/final_model/word2vec_nll.model' # Full model path (including filename) to load from\n",
    ")"
   ]
  },
  {
   "cell_type": "markdown",
   "metadata": {
    "id": "uCg5ozY2FW_F"
   },
   "source": [
    "* \"AmusementPark_Hospital_Pleasant_Unpleasant\": \"1.3171837\"\n",
    "* \"ItalianCuisines_MexicanCuisines_Healthy_Unhealthy\": \"0.42497307\"\n",
    "* \"JapeneseCar_AmericanCar_Good_Bad\": \"-0.20283286\",\n",
    "* \"EuropeanCountries_AfricanCountries_Developed_FallBehind\": \"0.12414764\"\n",
    "* \"Male_Female_Careless_Careful\": \"1.2796223\"\n",
    "\n",
    "The results of AmusementPark_Hospital_Pleasant_Unpleasant are as expected, amusement parks are usually pleasant and hospitals are usually accompanied by illness and pain. The test results of ItalianCuisines_MexicanCuisines_Healthy_Unhealthy are also more in line with expectations. But the results of JapeneseCar_AmericanCar_Good_Bad are opposite to expectations, which means that the model is more inclined to think that American cars are better. For the results given by EuropeanCountries_AfricanCountries_Developed_FallBehind, it can be found that the bias of this test is not so large. In the end, I was surprised by the bias in the model regarding the relationship between gender and personality. Model thinks that Male are more closely associated with Careless and Female are more closely associated with Careful."
   ]
  },
  {
   "cell_type": "markdown",
   "metadata": {
    "id": "JAfs_tRbGIRq"
   },
   "source": [
    "<b>2 possible ways to remove bias? </b>"
   ]
  },
  {
   "cell_type": "markdown",
   "metadata": {
    "id": "JGKSMoA0rq2K"
   },
   "source": [
    "* I think one way is to ensure that the data used to train the algorithm is diverse and representative of the population. Data should be collected from different sources, including different age groups, genders, ethnicities, and socioeconomic backgrounds. By having a diverse dataset, the model can learn to recognize patterns and relationships that are not biased towards a particular group.\n",
    "\n",
    "* I think another way is to monitor some of the more common biases in real time during the training sample process. Once the biases are found to be serious, start looking for sample inputs with opposite biases to correct them."
   ]
  },
  {
   "cell_type": "markdown",
   "metadata": {
    "id": "Igvl7TWEF-V1"
   },
   "source": [
    "### WEAT Experiment 2 (NEG Model)"
   ]
  },
  {
   "cell_type": "markdown",
   "metadata": {
    "id": "T2jAWsGHF-V1"
   },
   "source": [
    "Tests Created:\n",
    "* AmusementPark_Hospital_Pleasant_Unpleasant\n",
    "\n",
    "* ItalianCuisines_MexicanCuisines_Healthy_Unhealthy\n",
    "\n",
    "* JapeneseCar_AmericanCar_Good_Bad\n",
    "\n",
    "* EuropeanCountries_AfricanCountries_Developed_FallBehind\n",
    "\n",
    "* Male_Female_Careless_Careful\n",
    "\n",
    "I created these tests because these biases in testing are very common in many people's minds, so there is a good chance that this bias will be reflected in the sample"
   ]
  },
  {
   "cell_type": "markdown",
   "metadata": {
    "id": "1oL2uHz1F-V2"
   },
   "source": [
    "I was expecting similar results from this experiment as the previous ones, since they were trained with the same dataset. Perhaps the results of this experiment will be more accurate."
   ]
  },
  {
   "cell_type": "code",
   "execution_count": null,
   "metadata": {
    "id": "-_GmPk02F-V2"
   },
   "outputs": [],
   "source": [
    "run_bias_eval(\n",
    "    weat_file_path = 'custom_weat.json', # weat file where the tasks are defined\n",
    "    out_file = 'weat_results_neg.json', # output JSON file where the output is stored\n",
    "    model_path = '/content/final_model/word2vec_neg.model' # Full model path (including filename) to load from\n",
    ")"
   ]
  },
  {
   "cell_type": "markdown",
   "metadata": {
    "id": "UpuoBFU7F-V4"
   },
   "source": [
    "* \"AmusementPark_Hospital_Pleasant_Unpleasant\": \"1.4622178\",\n",
    "* \"ItalianCuisines_MexicanCuisines_Healthy_Unhealthy\": \"0.82199323\",\n",
    "* \"JapeneseCar_AmericanCar_Good_Bad\": \"-0.23306134\",\n",
    "* \"EuropeanCountries_AfricanCountries_Developed_FallBehind\": \"0.060268328\",\n",
    "* \"Male_Female_Careless_Careful\": \"-0.4530505\"\n",
    "\n",
    "Except for the results of the Male_Female_Careless_Carefu test, which are quite different from the previous ones, the results of other tests are relatively similar. The difference in the \"Male_Female_Careless_Careful\" test may be due to the fact that too many male and careless samples were drawn when negative samples were drawn, which corrected the original bias and even made the bias develop in the opposite direction"
   ]
  },
  {
   "cell_type": "markdown",
   "metadata": {
    "id": "KNaaE96eGkIQ"
   },
   "source": [
    "<b>2 possible ways to remove bias? </b>"
   ]
  },
  {
   "cell_type": "markdown",
   "metadata": {
    "id": "xuCpF_R1GkIQ"
   },
   "source": [
    "* One way is as before: ensure that the data used to train the algorithm is diverse and representative of the population. Data should be collected from different sources, including different age groups, genders, ethnicities, and socioeconomic backgrounds. By having a diverse dataset, the model can learn to recognize patterns and relationships that are not biased towards a particular group.\n",
    "\n",
    "* Another possible method is to take some biased samples at the same time when drawing negative samples"
   ]
  },
  {
   "cell_type": "markdown",
   "metadata": {
    "id": "bVB9U2zZSHX4"
   },
   "source": [
    "## Conclusion"
   ]
  },
  {
   "cell_type": "markdown",
   "metadata": {
    "id": "FLOkRdEnIKhR"
   },
   "source": [
    "Through the above experiments, the following conclusions can be obtained. neg is often more accurate than nll when using the same hyper-parameters. In addition, for the neg model, the appropriate window size and the number of negative samples can make the model more accurate, too much or too little will interfere with the accuracy. A small learning rate can find the minimum point more accurately. In addition, many biases that are common in real life can be reflected in the model. Whether these biases are measured by the nll or neg model, as long as the samples are the same, the results are relatively close."
   ]
  }
 ],
 "metadata": {
  "accelerator": "GPU",
  "colab": {
   "collapsed_sections": [
    "7m0Q604fnADQ"
   ],
   "gpuClass": "premium",
   "provenance": []
  },
  "gpuClass": "premium",
  "kernelspec": {
   "display_name": "Python 3 (ipykernel)",
   "language": "python",
   "name": "python3"
  },
  "language_info": {
   "codemirror_mode": {
    "name": "ipython",
    "version": 3
   },
   "file_extension": ".py",
   "mimetype": "text/x-python",
   "name": "python",
   "nbconvert_exporter": "python",
   "pygments_lexer": "ipython3",
   "version": "3.12.2"
  }
 },
 "nbformat": 4,
 "nbformat_minor": 4
}
